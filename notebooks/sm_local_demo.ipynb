{
 "cells": [
  {
   "cell_type": "code",
   "execution_count": 1,
   "id": "144b64a2-b557-4ca8-b141-aa2eacac52ab",
   "metadata": {},
   "outputs": [
    {
     "name": "stdout",
     "output_type": "stream",
     "text": [
      "sagemaker.config INFO - Not applying SDK defaults from location: /Library/Application Support/sagemaker/config.yaml\n",
      "sagemaker.config INFO - Not applying SDK defaults from location: /Users/chengao/Library/Application Support/sagemaker/config.yaml\n"
     ]
    },
    {
     "name": "stderr",
     "output_type": "stream",
     "text": [
      "/opt/anaconda3/envs/sagemaker-local/lib/python3.10/site-packages/requests/__init__.py:86: RequestsDependencyWarning: Unable to find acceptable character detection dependency (chardet or charset_normalizer).\n",
      "  warnings.warn(\n"
     ]
    }
   ],
   "source": [
    "import sagemaker, boto3"
   ]
  },
  {
   "cell_type": "markdown",
   "id": "70582410-3d29-4060-8ba4-483951c7c55d",
   "metadata": {},
   "source": [
    "# run_local.py"
   ]
  },
  {
   "cell_type": "code",
   "execution_count": null,
   "id": "c1cb6689-032d-463c-ac3b-811f38303cde",
   "metadata": {},
   "outputs": [],
   "source": [
    "import os\n",
    "import numpy as np\n",
    "from sagemaker.local import LocalSession\n",
    "from sagemaker.sklearn.estimator import SKLearn\n",
    "from sagemaker.serializers import CSVSerializer\n",
    "from sagemaker.deserializers import JSONDeserializer\n",
    "\n",
    "ROLE = \"local-role\"               # dummy for Local Mode\n",
    "FRAMEWORK_VERSION = \"1.2-1\"\n",
    "\n",
    "def main():\n",
    "    # Put all local artifacts under ../../outputs\n",
    "    local_out = os.path.abspath(os.path.join(os.path.dirname(__file__), \"..\", \"..\", \"outputs\"))\n",
    "    os.makedirs(local_out, exist_ok=True)\n",
    "\n",
    "    sm_local = LocalSession()\n",
    "    sm_local.config = {\"local\": {\"local_code\": True}}\n",
    "\n",
    "    est = SKLearn(\n",
    "        entry_point=\"src/train.py\",\n",
    "        role=ROLE,\n",
    "        instance_type=\"local\",\n",
    "        framework_version=FRAMEWORK_VERSION,\n",
    "        py_version=\"py3\",\n",
    "        sagemaker_session=sm_local,\n",
    "        output_path=f\"file://{local_out}\"\n",
    "    )\n",
    "\n",
    "    est.fit()  # train (data is internal to train.py)\n",
    "\n",
    "    predictor = est.deploy(initial_instance_count=1, instance_type=\"local\")\n",
    "    predictor.serializer = CSVSerializer()\n",
    "    predictor.deserializer = JSONDeserializer()\n",
    "\n",
    "    sample = np.array([[5.1, 3.5, 1.4, 0.2]])\n",
    "    print(\"Prediction:\", predictor.predict(sample))\n",
    "\n",
    "    predictor.delete_endpoint()  # stop local container\n",
    "\n",
    "if __name__ == \"__main__\":\n",
    "    main()"
   ]
  }
 ],
 "metadata": {
  "kernelspec": {
   "display_name": "Python (sagemaker-local)",
   "language": "python",
   "name": "sagemaker-local"
  },
  "language_info": {
   "codemirror_mode": {
    "name": "ipython",
    "version": 3
   },
   "file_extension": ".py",
   "mimetype": "text/x-python",
   "name": "python",
   "nbconvert_exporter": "python",
   "pygments_lexer": "ipython3",
   "version": "3.10.18"
  }
 },
 "nbformat": 4,
 "nbformat_minor": 5
}
